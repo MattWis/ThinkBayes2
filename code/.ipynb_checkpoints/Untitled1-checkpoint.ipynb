{
 "metadata": {
  "name": "",
  "signature": "sha256:f2c0479b214bf7af12f0b2963d6b9cfacdcc114d371e3e95c150b58b17e86a17"
 },
 "nbformat": 3,
 "nbformat_minor": 0,
 "worksheets": []
}