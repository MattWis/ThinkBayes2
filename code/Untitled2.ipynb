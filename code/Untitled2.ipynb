{
 "metadata": {
  "name": "",
  "signature": "sha256:5526b7681077893a3579e4dece45b878e2dcfd4522a9d865ec0b46a57523cb01"
 },
 "nbformat": 3,
 "nbformat_minor": 0,
 "worksheets": [
  {
   "cells": [
    {
     "cell_type": "code",
     "collapsed": false,
     "input": [
      "0.9 * 100 - 0.1 * 1200"
     ],
     "language": "python",
     "metadata": {},
     "outputs": [
      {
       "metadata": {},
       "output_type": "pyout",
       "prompt_number": 8,
       "text": [
        "-30.0"
       ]
      }
     ],
     "prompt_number": 8
    },
    {
     "cell_type": "code",
     "collapsed": false,
     "input": [
      "0.1 * 700 - 0.9 * 100"
     ],
     "language": "python",
     "metadata": {},
     "outputs": [
      {
       "metadata": {},
       "output_type": "pyout",
       "prompt_number": 9,
       "text": [
        "-20.0"
       ]
      }
     ],
     "prompt_number": 9
    },
    {
     "cell_type": "code",
     "collapsed": false,
     "input": [
      "p_johnson1 = 1200.0 / (100 + 1200) # 1200 : 100\n",
      "p_johnson2 = 700.0 / (100 + 700)    #  100 : 700\n",
      "print p_johnson1, p_johnson2"
     ],
     "language": "python",
     "metadata": {},
     "outputs": [
      {
       "output_type": "stream",
       "stream": "stdout",
       "text": [
        "0.923076923077 0.875\n"
       ]
      }
     ],
     "prompt_number": 10
    },
    {
     "cell_type": "code",
     "collapsed": false,
     "input": [
      "money_johnson = 162.5 - 1200.0 / 12\n",
      "money_caruso = 1200.0 - 162.5 * 7\n",
      "print money_johnson, money_caruso"
     ],
     "language": "python",
     "metadata": {},
     "outputs": [
      {
       "output_type": "stream",
       "stream": "stdout",
       "text": [
        "62.5 62.5\n"
       ]
      }
     ],
     "prompt_number": 12
    },
    {
     "cell_type": "code",
     "collapsed": false,
     "input": [
      "two_blue = 0.75**2\n",
      "two_green = 0.25**2\n",
      "one_of_each1 = 1 - two_blue - two_green\n",
      "one_of_each2 = 2 * 0.75 * 0.25\n",
      "print one_of_each1, one_of_each2"
     ],
     "language": "python",
     "metadata": {},
     "outputs": [
      {
       "output_type": "stream",
       "stream": "stdout",
       "text": [
        "0.375 0.375\n"
       ]
      }
     ],
     "prompt_number": 13
    },
    {
     "cell_type": "heading",
     "level": 3,
     "metadata": {},
     "source": [
      "10/13"
     ]
    },
    {
     "cell_type": "code",
     "collapsed": false,
     "input": [
      "# in odds\n",
      "prior = 4 / 1\n",
      "likelihood = 0.01 / 0.012\n",
      "posterior = prior * likelihood\n",
      "print posterior\n",
      "print posterior / (1 + posterior)\n",
      "print 10.0 / 13\n",
      "# exculpatory vs incriminating"
     ],
     "language": "python",
     "metadata": {},
     "outputs": [
      {
       "output_type": "stream",
       "stream": "stdout",
       "text": [
        "3.33333333333\n",
        "0.769230769231\n",
        "0.769230769231\n"
       ]
      }
     ],
     "prompt_number": 18
    },
    {
     "cell_type": "code",
     "collapsed": false,
     "input": [
      "def PmfProd(pmf1, pmf2):\n",
      "    pmf = Pmf()\n",
      "    for v1, p1 in pmf1.Items():\n",
      "        for v2, p2 in pmf2.Items():\n",
      "            pmf.Incr(v1 * v2, p1 * p2)\n",
      "    return pmf"
     ],
     "language": "python",
     "metadata": {},
     "outputs": [],
     "prompt_number": 19
    },
    {
     "cell_type": "code",
     "collapsed": false,
     "input": [
      "# Add\n",
      "# convolution - m^2\n",
      "# (FFT can make it m log m)"
     ],
     "language": "python",
     "metadata": {},
     "outputs": [],
     "prompt_number": 20
    },
    {
     "cell_type": "code",
     "collapsed": false,
     "input": [
      "from thinkbayes2 import Pmf, NormalPdf\n",
      "\n",
      "def PmfProbSumGreater(pmf1, pmf2, pmf3):\n",
      "    \"\"\" Probability that x from pmf1 + y from pmf2 > z from pmf3\"\"\"\n",
      "    pmf_sum = pmf1 + pmf2\n",
      "    pmf_diff = pmf_sum - pmf3\n",
      "    return pmf_diff.ProbGreater(0)\n",
      "\n",
      "pmfX = NormalPdf(163, 7.3).MakePmf()\n",
      "pmfY = NormalPdf(178, 7.7).MakePmf()\n",
      "\n",
      "d6 = Pmf(range(1,7))\n",
      "\n",
      "print PmfProbSumGreater(d6, d6, d6)\n",
      "print PmfProbSumGreater(d6, d6, d6 + d6)\n",
      "print PmfProbSumGreater(pmfX, pmfX, pmfY)"
     ],
     "language": "python",
     "metadata": {},
     "outputs": [
      {
       "output_type": "stream",
       "stream": "stdout",
       "text": [
        "0.837962962963\n",
        "0.443672839506\n",
        "1.0"
       ]
      },
      {
       "output_type": "stream",
       "stream": "stdout",
       "text": [
        "\n"
       ]
      }
     ],
     "prompt_number": 34
    },
    {
     "cell_type": "code",
     "collapsed": false,
     "input": [],
     "language": "python",
     "metadata": {},
     "outputs": []
    },
    {
     "cell_type": "code",
     "collapsed": false,
     "input": [],
     "language": "python",
     "metadata": {},
     "outputs": []
    }
   ],
   "metadata": {}
  }
 ]
}